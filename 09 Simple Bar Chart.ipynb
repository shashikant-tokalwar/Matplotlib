{
 "cells": [
  {
   "cell_type": "code",
   "execution_count": 1,
   "metadata": {},
   "outputs": [],
   "source": [
    "import numpy as np\n",
    "import matplotlib.pyplot as plt\n",
    "import matplotlib as mpl\n",
    "mpl.style.use('classic')"
   ]
  },
  {
   "cell_type": "code",
   "execution_count": 2,
   "metadata": {},
   "outputs": [],
   "source": [
    "range_vals=np.linspace(0,100,11)\n",
    "counts1=np.random.rand(10)*2.0\n",
    "counts2=np.random.rand(10)*4.0\n",
    "counts3=np.random.rand(10)*8.0\n",
    "errors=np.ones(10)*0.5\n",
    "bar_width=8.0"
   ]
  },
  {
   "cell_type": "code",
   "execution_count": 3,
   "metadata": {},
   "outputs": [],
   "source": [
    "# For classic style\n",
    "mid_vals=(range_vals[0:-1]+range_vals[1:])*0.5-(bar_width*0.5)\n",
    "# For default style\n",
    "#mid_vals=(range_vals[0:-1]+range_vals[1:])*0.5"
   ]
  },
  {
   "cell_type": "code",
   "execution_count": 4,
   "metadata": {},
   "outputs": [
    {
     "data": {
      "image/png": "[encoded data removed]",
      "text/plain": [
       "<Figure size 432x288 with 1 Axes>"
      ]
     },
     "metadata": {
      "needs_background": "light"
     },
     "output_type": "display_data"
    }
   ],
   "source": [
    "#plt.bar(mid_vals, counts1)\n",
    "\n",
    "plt.bar(mid_vals, counts1, facecolor='chocolate', label='Sample Bar',width=bar_width, yerr=errors)\n",
    "\n",
    "# For classic style\n",
    "plt.xticks(mid_vals+bar_width*0.5)\n",
    "\n",
    "# For default style\n",
    "#plt.xticks(mid_vals)\n",
    "\n",
    "plt.xlabel('Values')\n",
    "plt.ylabel('Count')\n",
    "plt.title('Simple Bar Chart')\n",
    "plt.show()"
   ]
  },
  {
   "cell_type": "code",
   "execution_count": null,
   "metadata": {},
   "outputs": [],
   "source": []
  },
  {
   "cell_type": "code",
   "execution_count": null,
   "metadata": {},
   "outputs": [],
   "source": []
  }
 ],
 "metadata": {
  "kernelspec": {
   "display_name": "Python 3",
   "language": "python",
   "name": "python3"
  },
  "language_info": {
   "codemirror_mode": {
    "name": "ipython",
    "version": 3
   },
   "file_extension": ".py",
   "mimetype": "text/x-python",
   "name": "python",
   "nbconvert_exporter": "python",
   "pygments_lexer": "ipython3",
   "version": "3.6.5"
  }
 },
 "nbformat": 4,
 "nbformat_minor": 2
}
